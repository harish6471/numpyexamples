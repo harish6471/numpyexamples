{
 "cells": [
  {
   "cell_type": "code",
   "execution_count": 1,
   "metadata": {},
   "outputs": [
    {
     "data": {
      "text/plain": [
       "array([1, 2, 3, 4])"
      ]
     },
     "execution_count": 1,
     "metadata": {},
     "output_type": "execute_result"
    }
   ],
   "source": [
    "import numpy as np\n",
    "list=[1,2,3,4]\n",
    "nparray=np.array(list)\n",
    "nparray"
   ]
  },
  {
   "cell_type": "markdown",
   "metadata": {},
   "source": [
    "# info"
   ]
  },
  {
   "cell_type": "code",
   "execution_count": 19,
   "metadata": {},
   "outputs": [
    {
     "data": {
      "text/plain": [
       "array([[1, 2, 3],\n",
       "       [4, 5, 6]])"
      ]
     },
     "execution_count": 19,
     "metadata": {},
     "output_type": "execute_result"
    }
   ],
   "source": [
    "#2d array\n",
    "list1=[[1,2,3],[4,5,6]]\n",
    "arrd=np.array(list1)\n",
    "\n",
    "#converting str to any datatype to other datatype\n",
    "arrdd=arrd.astype('float').astype('int')\n",
    "\n",
    "#back to list\n",
    "arrdd.tolist()\n",
    "\n",
    "\n",
    "#shape\n",
    "arrd.shape\n",
    "#dtype\n",
    "arrd.dtype\n",
    "\n",
    "#num of dimesions \n",
    "arrd.ndim\n",
    "\n",
    "#size\n",
    "arrd.size\n",
    "\n",
    "\n",
    "arrd"
   ]
  },
  {
   "cell_type": "markdown",
   "metadata": {},
   "source": [
    "# Extracting Elements from array"
   ]
  },
  {
   "cell_type": "code",
   "execution_count": null,
   "metadata": {},
   "outputs": [],
   "source": [
    "arrd\n",
    "\n",
    "\n",
    "arrd[:2,:2]#extracting first elements from two rows and two colums\n",
    "arrd[:2,:1]\n"
   ]
  },
  {
   "cell_type": "markdown",
   "metadata": {},
   "source": [
    "# Boolean Indexing"
   ]
  },
  {
   "cell_type": "code",
   "execution_count": 24,
   "metadata": {},
   "outputs": [
    {
     "data": {
      "text/plain": [
       "array([4, 5, 6])"
      ]
     },
     "execution_count": 24,
     "metadata": {},
     "output_type": "execute_result"
    }
   ],
   "source": [
    "b=arrd>3\n",
    "b\n",
    "#Elements which are greater than 4\n",
    "arrd[b]"
   ]
  },
  {
   "cell_type": "markdown",
   "metadata": {},
   "source": [
    "# Reversing positions in array"
   ]
  },
  {
   "cell_type": "code",
   "execution_count": 37,
   "metadata": {},
   "outputs": [
    {
     "data": {
      "text/plain": [
       "array([[6, 5, 4],\n",
       "       [3, 2, 1]])"
      ]
     },
     "execution_count": 37,
     "metadata": {},
     "output_type": "execute_result"
    }
   ],
   "source": [
    "arrd[::-1]\n",
    "#using flip function\n",
    "\n",
    "\n",
    "# rows flipping\n",
    "np.flip(arrd,axis=0)\n",
    "\n",
    "#columns flipping\n",
    "\n",
    "np.flip(arrd,axis=1)\n",
    "\n",
    "\n",
    "\n"
   ]
  },
  {
   "cell_type": "markdown",
   "metadata": {},
   "source": [
    "# Representing Missing Values"
   ]
  },
  {
   "cell_type": "code",
   "execution_count": 57,
   "metadata": {},
   "outputs": [
    {
     "data": {
      "text/plain": [
       "array([[ 1.,  2.,  3.],\n",
       "       [ 4., -1., -1.]])"
      ]
     },
     "execution_count": 57,
     "metadata": {},
     "output_type": "execute_result"
    }
   ],
   "source": [
    "\n",
    "floatarr=arrd.astype('float64')\n",
    "# floatarr.dtype\n",
    "floatarr[1,1]=np.nan\n",
    "floatarr[1,2]=np.inf\n",
    "\n",
    "#Replacing missing values with -1\n",
    "\n",
    "missing=np.isnan(floatarr)|np.isinf(floatarr)\n",
    "floatarr[missing]=-1\n",
    "floatarr"
   ]
  },
  {
   "cell_type": "markdown",
   "metadata": {},
   "source": [
    "# Computing min,max,mean on ndarray"
   ]
  },
  {
   "cell_type": "code",
   "execution_count": 83,
   "metadata": {},
   "outputs": [
    {
     "data": {
      "text/plain": [
       "array([[1, 8, 3]])"
      ]
     },
     "execution_count": 83,
     "metadata": {},
     "output_type": "execute_result"
    }
   ],
   "source": [
    "arrd.mean()\n",
    "arrd.max()\n",
    "arrd.min()\n",
    "\n",
    "#column wise\n",
    "column_min=np.amin(arrd,axis=0)\n",
    "column_max=np.amax(arrd,axis=0)\n",
    "column_mean=np.mean(arrd,axis=0)\n",
    "\n",
    "#row_wise\n",
    "row_min=np.amin(arrd,axis=1)\n",
    "row_max=np.amax(arrd,axis=1)\n",
    "row_mean=np.mean(arrd,axis=1)\n",
    "\n",
    "#cummulative sum\n",
    "np.cumsum(arrd)\n",
    "\n",
    "arrd[0,1]=2\n",
    "arrd\n",
    "\n",
    "#copy function\n",
    "arr_row=arrd[:1,:3].copy()\n",
    "arr_row[0,1]=8\n",
    "arr_row\n",
    "arrd"
   ]
  },
  {
   "cell_type": "markdown",
   "metadata": {},
   "source": [
    "# Reshaping ndarray"
   ]
  },
  {
   "cell_type": "code",
   "execution_count": 86,
   "metadata": {},
   "outputs": [
    {
     "data": {
      "text/plain": [
       "array([[1, 2],\n",
       "       [3, 4],\n",
       "       [5, 6]])"
      ]
     },
     "execution_count": 86,
     "metadata": {},
     "output_type": "execute_result"
    }
   ],
   "source": [
    "arrd.reshape(3,2)"
   ]
  },
  {
   "cell_type": "markdown",
   "metadata": {},
   "source": [
    "# creating sequences ,repetetions and random numbers using numpy"
   ]
  },
  {
   "cell_type": "code",
   "execution_count": 103,
   "metadata": {},
   "outputs": [
    {
     "data": {
      "text/plain": [
       "array([[1., 1.],\n",
       "       [1., 1.],\n",
       "       [1., 1.]])"
      ]
     },
     "execution_count": 103,
     "metadata": {},
     "output_type": "execute_result"
    }
   ],
   "source": [
    "np.arange(5)\n",
    "np.arange(0,10)\n",
    "np.arange(10,0,-2)  #(start,end,difference)\n",
    "np.linspace(10,0,8) \n",
    "\n",
    "\n",
    "#log\n",
    "np.logspace(start=1,stop=50,num=10,base=10)\n",
    "\n",
    "#zeros nd array\n",
    "\n",
    "np.zeros([5,5])\n",
    "\n",
    "#ones nd array\n",
    "np.ones([3,2])\n",
    "\n"
   ]
  },
  {
   "cell_type": "markdown",
   "metadata": {},
   "source": [
    "# Creating repeating Sequences"
   ]
  },
  {
   "cell_type": "code",
   "execution_count": 105,
   "metadata": {},
   "outputs": [
    {
     "data": {
      "text/plain": [
       "array([[1, 2, 3, 1, 2, 3],\n",
       "       [4, 5, 6, 4, 5, 6]])"
      ]
     },
     "execution_count": 105,
     "metadata": {},
     "output_type": "execute_result"
    }
   ],
   "source": [
    "l=[4,6,8]\n",
    "np.tile(l,6) # here 6 as repeating number\n",
    "np.tile(arrd,2)"
   ]
  },
  {
   "cell_type": "markdown",
   "metadata": {},
   "source": [
    "# Generate Random Numbers"
   ]
  },
  {
   "cell_type": "code",
   "execution_count": 137,
   "metadata": {},
   "outputs": [
    {
     "data": {
      "text/plain": [
       "(array([3, 7, 8]), array([1, 1, 2], dtype=int64))"
      ]
     },
     "execution_count": 137,
     "metadata": {},
     "output_type": "execute_result"
    }
   ],
   "source": [
    "np.random.rand(3,4) #between o to 1\n",
    "np.random.randn(2,2) #normal distribution mean=0 and varience =1\n",
    "np.random.randint(0,10,size=[2,2]) #from 0 to 10\n",
    "np.random.random() #one random number from 0 to 1\n",
    "list=['a','e','i','o','u']\n",
    "np.random.choice(list,size=9) #Pick 9 items from a given list, with equal probability\n",
    "np.random.choice(list, size=10, p=[0.1, .3, 0.1, 0.4, 0.1])\n",
    "\n",
    "\n",
    "#uniques\n",
    "\n",
    "rn=np.random.RandomState(100)\n",
    "ar=rn.randint(0,10,size=[2,2])\n",
    "uniques=np.unique(ar)\n",
    "counts=np.unique(ar,return_counts=True)\n",
    "uniques\n",
    "counts\n"
   ]
  },
  {
   "cell_type": "code",
   "execution_count": null,
   "metadata": {},
   "outputs": [],
   "source": []
  }
 ],
 "metadata": {
  "kernelspec": {
   "display_name": "Python 3",
   "language": "python",
   "name": "python3"
  },
  "language_info": {
   "codemirror_mode": {
    "name": "ipython",
    "version": 3
   },
   "file_extension": ".py",
   "mimetype": "text/x-python",
   "name": "python",
   "nbconvert_exporter": "python",
   "pygments_lexer": "ipython3",
   "version": "3.7.4"
  }
 },
 "nbformat": 4,
 "nbformat_minor": 4
}
