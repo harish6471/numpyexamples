{
 "cells": [
  {
   "cell_type": "markdown",
   "metadata": {},
   "source": [
    "#  Vital Functions for Data Analysis"
   ]
  },
  {
   "cell_type": "code",
   "execution_count": 11,
   "metadata": {},
   "outputs": [
    {
     "data": {
      "text/plain": [
       "5"
      ]
     },
     "execution_count": 11,
     "metadata": {},
     "output_type": "execute_result"
    }
   ],
   "source": [
    "import numpy as np\n",
    "\n",
    "np.random.seed(100)\n",
    "ar=np.random.randint(0,10,size=10)\n",
    "#positions where elements are greater than 2\n",
    "pos=np.where(ar>2) #positions\n",
    "pos\n",
    "elements=ar.take(pos) #elements\n",
    "elements\n",
    "\n",
    "#position of max and min values\n",
    "\n",
    "np.argmax(ar)#postion max\n",
    "np.argmin(ar)#position min"
   ]
  },
  {
   "cell_type": "markdown",
   "metadata": {},
   "source": [
    "# data as a csv file"
   ]
  },
  {
   "cell_type": "code",
   "execution_count": 32,
   "metadata": {},
   "outputs": [
    {
     "data": {
      "text/plain": [
       "array([[b'18', b'8', b'307', b'130', b'3504', b'12', b'70', b'1',\n",
       "        b'\"chevrolet chevelle malibu\"'],\n",
       "       [b'15', b'8', b'350', b'165', b'3693', b'11.5', b'70', b'1',\n",
       "        b'\"buick skylark 320\"'],\n",
       "       [b'18', b'8', b'318', b'150', b'3436', b'11', b'70', b'1',\n",
       "        b'\"plymouth satellite\"']], dtype=object)"
      ]
     },
     "execution_count": 32,
     "metadata": {},
     "output_type": "execute_result"
    }
   ],
   "source": [
    "import pandas as pd\n",
    "path='https://raw.githubusercontent.com/selva86/datasets/master/Auto.csv'\n",
    "\n",
    "\n",
    "data = np.genfromtxt(path, delimiter=',' ,skip_header=1, filling_values=-999, dtype='float')\n",
    "data1=np.genfromtxt(path, delimiter=',' ,skip_header=1,  dtype='object')\n",
    "data1[:3]\n",
    "\n",
    "# np.savetxt(\"out.csv\",data,delimiter=',') # saving csv"
   ]
  },
  {
   "cell_type": "markdown",
   "metadata": {},
   "source": [
    "# Saving ndarray objects into file and load"
   ]
  },
  {
   "cell_type": "code",
   "execution_count": 33,
   "metadata": {},
   "outputs": [],
   "source": [
    "np.save('myarray.npy',ar  #saving"
   ]
  },
  {
   "cell_type": "code",
   "execution_count": 34,
   "metadata": {},
   "outputs": [
    {
     "data": {
      "text/plain": [
       "array([8, 8, 3, 7, 7, 0, 4, 2, 5, 2])"
      ]
     },
     "execution_count": 34,
     "metadata": {},
     "output_type": "execute_result"
    }
   ],
   "source": [
    "lar=np.load('myarray.npy')  #loading\n",
    "lar"
   ]
  },
  {
   "cell_type": "markdown",
   "metadata": {},
   "source": [
    "# Concatenate two numpy arrays"
   ]
  },
  {
   "cell_type": "code",
   "execution_count": 49,
   "metadata": {},
   "outputs": [
    {
     "data": {
      "text/plain": [
       "array([[18, 18, 13,  8,  8,  3],\n",
       "       [17, 17, 10,  7,  7,  0],\n",
       "       [14, 12, 15,  4,  2,  5]])"
      ]
     },
     "execution_count": 49,
     "metadata": {},
     "output_type": "execute_result"
    }
   ],
   "source": [
    "np.random.seed(100)\n",
    "\n",
    "ar1=np.random.randint(10,20,size=[3,3])\n",
    "\n",
    "np.random.seed(100)\n",
    "\n",
    "ar2=np.random.randint(0,10,size=[3,3])\n",
    "\n",
    "\n",
    "\n",
    "#vertical Wise\n",
    "\n",
    "arh=np.concatenate([ar1,ar2],axis=0)#method1 \n",
    "np.vstack([ar1,ar2])# method2\n",
    "np.r_[ar1,ar2]# method 3\n",
    "\n",
    "#column Wise\n",
    "np.concatenate([ar1,ar2],axis=1)#method1 \n",
    "np.hstack([ar1,ar2])# method2\n",
    "np.c_[ar1,ar2]# method 3\n",
    "\n",
    "\n",
    "\n",
    "\n",
    "\n",
    "\n",
    "\n",
    "\n",
    "\n",
    "\n",
    "\n",
    "\n",
    "\n",
    "\n"
   ]
  },
  {
   "cell_type": "markdown",
   "metadata": {},
   "source": [
    "# Sorting"
   ]
  },
  {
   "cell_type": "code",
   "execution_count": 69,
   "metadata": {},
   "outputs": [
    {
     "data": {
      "text/plain": [
       "array([[ 4,  2,  5],\n",
       "       [ 7,  7,  0],\n",
       "       [ 8,  8,  3],\n",
       "       [14, 12, 15],\n",
       "       [17, 17, 10],\n",
       "       [13, 18, 18]])"
      ]
     },
     "execution_count": 69,
     "metadata": {},
     "output_type": "execute_result"
    }
   ],
   "source": [
    "# print(np.sort(arh,axis=0)) #column Wise SOrting\n",
    "# print(np.sort(arh,axis=1))# row Wise Sorting\n",
    "\n",
    "\n",
    "\n",
    "first_col=arh[:,0].argsort()  # sorting first column Ascending\n",
    "\n",
    "arh[first_col]\n",
    "\n",
    "arh[first_col[::-1]]  #descending order\n",
    "\n",
    "\n",
    "\n",
    "first_row=arh[0,:].argsort() #sorting first row\n",
    "\n",
    "arh[first_row]\n",
    "\n",
    "\n",
    "#two or more columns or rows\n",
    "\n",
    "lexsorted = np.lexsort((arh[:, 0], arh[:, 1])) #column 1 and 2\n",
    "arh[lexsorted]\n"
   ]
  },
  {
   "cell_type": "markdown",
   "metadata": {},
   "source": [
    "# Working with dates\n"
   ]
  },
  {
   "cell_type": "code",
   "execution_count": 86,
   "metadata": {},
   "outputs": [
    {
     "data": {
      "text/plain": [
       "0"
      ]
     },
     "execution_count": 86,
     "metadata": {},
     "output_type": "execute_result"
    }
   ],
   "source": [
    "dt=np.datetime64('2020-06-15')\n",
    "\n",
    "as_string=np.datetime_as_string(dt)\n",
    "min=np.timedelta64(54,'m')\n",
    "\n",
    "# print(\"Adding 54 min:\",dt+min)\n",
    "\n",
    "\n",
    "\n",
    "# Sequence of dates\n",
    "dates=np.arange(np.datetime64('2020-06-16'),np.datetime64('2020-06-30'))\n",
    "\n",
    "np.is_busday(dates) #check if they are busy dates\n",
    "\n",
    "\n",
    "dt1=dt.tolist()  # converting np.datetime64 to datetime.datetime\n",
    "dt1.year  # year \n",
    "dt1.month # month\n",
    "dt1.day # date\n",
    "dt1.weekday() \n",
    "\n",
    "\n"
   ]
  },
  {
   "cell_type": "markdown",
   "metadata": {},
   "source": [
    "# Advanced numpy functions"
   ]
  },
  {
   "cell_type": "code",
   "execution_count": 98,
   "metadata": {},
   "outputs": [
    {
     "name": "stdout",
     "output_type": "stream",
     "text": [
      "[[19 14 10 11 19]\n",
      " [10 11 18 19 10]\n",
      " [18 16 14 13 10]\n",
      " [14 16 18 11 18]\n",
      " [14 11 13 16 15]]\n"
     ]
    },
    {
     "data": {
      "text/plain": [
       "array([[361.,   7.,   5., 121., 361.],\n",
       "       [  5., 121.,   9., 361.,   5.],\n",
       "       [  9.,   8.,   7., 169.,   5.],\n",
       "       [  7.,   8.,   9., 121.,   9.],\n",
       "       [  7., 121., 169.,   8., 225.]])"
      ]
     },
     "execution_count": 98,
     "metadata": {},
     "output_type": "execute_result"
    }
   ],
   "source": [
    "def fun(x):\n",
    "    if x%2==1:\n",
    "        return x**2\n",
    "    else:\n",
    "        return x/2\n",
    "\n",
    "# vectorization of numbers\n",
    "fun_vec=np.vectorize(fun,otypes=[float])\n",
    "fun_vec([10,15,20])   \n",
    "\n",
    "\n",
    "\n",
    "\n",
    "np.random.seed(10)\n",
    "newarr=np.random.randint(10,20,size=[5,5])\n",
    "print(newarr)\n",
    "\n",
    "#applying function row wise and column wise\n",
    "\n",
    "col_wise=np.apply_along_axis(fun_vec,0,arr=newarr)\n",
    "col_wise"
   ]
  },
  {
   "cell_type": "code",
   "execution_count": 116,
   "metadata": {},
   "outputs": [
    {
     "name": "stdout",
     "output_type": "stream",
     "text": [
      "0.0 <= 0.2 < 1.0\n",
      "4.0 <= 6.4 < 10.0\n",
      "2.5 <= 3.0 < 4.0\n",
      "1.0 <= 1.6 < 2.5\n"
     ]
    }
   ],
   "source": [
    "x=np.arange(10)\n",
    "new_x=np.newaxis\n",
    "x[:,new_x] #adding new column axis\n",
    "x[new_x,:] #adding new row axis\n",
    "\n",
    "\n",
    "# digitize\n",
    "x = np.array([0.2, 6.4, 3.0, 1.6])\n",
    "bins = np.array([0.0, 1.0, 2.5, 4.0, 10.0])\n",
    "inds = np.digitize(x, bins)\n",
    "for n in range(x.size):\n",
    "    print(bins[inds[n]-1], \"<=\", x[n], \"<\", bins[inds[n]])\n"
   ]
  },
  {
   "cell_type": "markdown",
   "metadata": {},
   "source": [
    "# Dot "
   ]
  },
  {
   "cell_type": "code",
   "execution_count": 125,
   "metadata": {},
   "outputs": [
    {
     "data": {
      "text/plain": [
       "15"
      ]
     },
     "execution_count": 125,
     "metadata": {},
     "output_type": "execute_result"
    }
   ],
   "source": [
    "np.dot(3,4)\n",
    "np.random.seed(100)\n",
    "a1=np.random.randint(0,10,size=[2,2])\n",
    "a2=np.random.randint(10,20,size=[2,2])\n",
    "a1@a2 #@symbol is matmul\n",
    "#or \n",
    "np.dot(a1,a2)\n",
    "\n",
    "\n",
    "\n",
    "#trace of matrix\n",
    "\n",
    "np.trace(a1)\n",
    "#Or"
   ]
  },
  {
   "cell_type": "code",
   "execution_count": null,
   "metadata": {},
   "outputs": [],
   "source": []
  }
 ],
 "metadata": {
  "kernelspec": {
   "display_name": "Python 3",
   "language": "python",
   "name": "python3"
  },
  "language_info": {
   "codemirror_mode": {
    "name": "ipython",
    "version": 3
   },
   "file_extension": ".py",
   "mimetype": "text/x-python",
   "name": "python",
   "nbconvert_exporter": "python",
   "pygments_lexer": "ipython3",
   "version": "3.7.4"
  }
 },
 "nbformat": 4,
 "nbformat_minor": 4
}
